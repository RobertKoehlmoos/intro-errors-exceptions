{
 "cells": [
  {
   "cell_type": "markdown",
   "id": "weighted-patent",
   "metadata": {},
   "source": [
    "# Working with Exceptions in Python"
   ]
  },
  {
   "cell_type": "markdown",
   "id": "responsible-equipment",
   "metadata": {},
   "source": [
    "## What is an Exception?"
   ]
  },
  {
   "cell_type": "markdown",
   "id": "statutory-restriction",
   "metadata": {},
   "source": [
    "A Python program will terminate when it receives an Exception.\n",
    "\n",
    "These can be triggered through a variety of different ways, but generally occur when a program reaches a point where there is no logical way to continue.\n",
    "\n",
    "A few common examples are: \n",
    "- Dividing by zero\n",
    "- Attempting to open a file that does not exist\n",
    "- Converting a non-integer string into an integer"
   ]
  },
  {
   "cell_type": "markdown",
   "id": "connected-calendar",
   "metadata": {
    "scrolled": true
   },
   "source": [
    "### Exercise: Creating Exceptions"
   ]
  },
  {
   "cell_type": "markdown",
   "id": "fixed-significance",
   "metadata": {},
   "source": [
    "1. Cause a division by zero exception"
   ]
  },
  {
   "cell_type": "code",
   "execution_count": null,
   "id": "progressive-language",
   "metadata": {
    "scrolled": true
   },
   "outputs": [],
   "source": []
  },
  {
   "cell_type": "markdown",
   "id": "rolled-carnival",
   "metadata": {},
   "source": [
    "2. Cause a File not Found Excpetion by attempting to open a file that does not exist"
   ]
  },
  {
   "cell_type": "code",
   "execution_count": null,
   "id": "ignored-neighbor",
   "metadata": {},
   "outputs": [],
   "source": []
  },
  {
   "cell_type": "markdown",
   "id": "professional-prospect",
   "metadata": {},
   "source": [
    "3. Create a value error by attempting to convert a string into an integer when the string does not represent an integer"
   ]
  },
  {
   "cell_type": "code",
   "execution_count": null,
   "id": "quarterly-parent",
   "metadata": {},
   "outputs": [],
   "source": []
  },
  {
   "cell_type": "markdown",
   "id": "promotional-amazon",
   "metadata": {},
   "source": [
    "4. Cause a type error by attempting to add together two different values that cannot be added together"
   ]
  },
  {
   "cell_type": "code",
   "execution_count": null,
   "id": "endangered-memory",
   "metadata": {},
   "outputs": [],
   "source": []
  },
  {
   "cell_type": "markdown",
   "id": "empty-costa",
   "metadata": {},
   "source": [
    "## Catching Exceptions"
   ]
  },
  {
   "cell_type": "markdown",
   "id": "imperial-cabin",
   "metadata": {},
   "source": [
    "When exceptions occur normally they will cause the entire program to stop running. However, python offers the `try` and `except` statements that allow you to handle them within your code.\n",
    "\n",
    "They work similarly to `if` and `else` statements. A `try` statement comes first, and any code you want to execute occurs indented in a block below it. After that, you can optionally have a `except` statement on the same indentation as the `try` statement. The `except` statement can optionally be followed by an exception type that identifies what exceptions it will handle, if none is provided it will handle all exceptions. If an exception occurs that is not handled it will affect the program like normal.\n",
    "\n",
    "An example `try` and `except` block is below. Notice that the `print` statement in the except block executes instead of allowing the exception to continue."
   ]
  },
  {
   "cell_type": "code",
   "execution_count": null,
   "id": "judicial-amazon",
   "metadata": {},
   "outputs": [],
   "source": [
    "try:\n",
    "    5 + \"definitely not a number\"\n",
    "except TypeError:\n",
    "    print(\"Tried to add together a number and a string\")"
   ]
  },
  {
   "cell_type": "markdown",
   "id": "expected-logistics",
   "metadata": {},
   "source": [
    "### Exercise: Handling Exceptions\n",
    "Handle only the specific exception raised and print what the problem was"
   ]
  },
  {
   "cell_type": "code",
   "execution_count": null,
   "id": "official-special",
   "metadata": {},
   "outputs": [],
   "source": [
    "0/0"
   ]
  },
  {
   "cell_type": "code",
   "execution_count": null,
   "id": "verified-necessity",
   "metadata": {},
   "outputs": [],
   "source": [
    "open('you_should_not_have_a_file_with_this_name.exe')"
   ]
  },
  {
   "cell_type": "code",
   "execution_count": null,
   "id": "exposed-aside",
   "metadata": {},
   "outputs": [],
   "source": [
    "my_tuple = (8,6,7,5,3,0,9)\n",
    "my_tuple[4] = \"Jenny\""
   ]
  },
  {
   "cell_type": "code",
   "execution_count": null,
   "id": "checked-parks",
   "metadata": {},
   "outputs": [],
   "source": [
    "my_cool_variable = 7\n",
    "print(my_cool_varaible)"
   ]
  },
  {
   "cell_type": "markdown",
   "id": "collect-conclusion",
   "metadata": {},
   "source": [
    "## Handling Multiple Exceptions\n",
    "`except` statements can be chained together one after another to handle different types of exception in different ways.\n",
    "Below is an example:"
   ]
  },
  {
   "cell_type": "code",
   "execution_count": null,
   "id": "resident-chess",
   "metadata": {
    "scrolled": true
   },
   "outputs": [],
   "source": [
    "def print_lowercase_name_multiple_times(name: str, repetitions: str):  \n",
    "    try:\n",
    "        name = name.lower()  # we only want the lower case names\n",
    "        for i in range(int(repetitions)):\n",
    "            print(name)\n",
    "    except AttributeError:\n",
    "        print(\"name needs to be a string\")\n",
    "    except ValueError:\n",
    "        print(\"repetitions should be an integer as a string\")\n",
    "\n",
    "    \n",
    "print_lowercase_name_multiple_times([\"t\", \"i\", \"m\"], '6')\n",
    "print_lowercase_name_multiple_times(\"tim\", \"six\")"
   ]
  },
  {
   "cell_type": "markdown",
   "id": "spatial-laptop",
   "metadata": {},
   "source": [
    "### Exercise: Handling multiple exception types\n",
    "For each of the below functions, add `try` and `except` statments within the function so that all example outputs are handled"
   ]
  },
  {
   "cell_type": "code",
   "execution_count": null,
   "id": "exclusive-ridge",
   "metadata": {},
   "outputs": [],
   "source": [
    "def divide_numeric_strings(numerator: str, denominator: str) -> float:\n",
    "    return int(numerator) / int(denominator)\n",
    "\n",
    "divide_numeric_strings(\"3\", \"0\")\n",
    "divide_numeric_strings(\"fourty\", \"9\")"
   ]
  },
  {
   "cell_type": "code",
   "execution_count": null,
   "id": "realistic-gallery",
   "metadata": {},
   "outputs": [],
   "source": [
    "def check_sum_of_squared_list(l: list[int], expected: int):\n",
    "    for i, element in enumerate(l):\n",
    "        l[i] = element**2\n",
    "    assert sum(l) == expected\n",
    "\n",
    "check_sum_of_squared_list((1, 2, 3), 14)\n",
    "check_sum_of_squared_list([1, 2, 3], 6)"
   ]
  },
  {
   "cell_type": "code",
   "execution_count": null,
   "id": "orange-constitution",
   "metadata": {},
   "outputs": [],
   "source": [
    "def dumb_function(define_dictionary: bool, key_to_check: str):\n",
    "    if define_variable:  # don't ever write something like this\n",
    "        my_dictionary = {\"hey\": 3, \"hi\": 2}\n",
    "    print(my_dictionary[key_to_check])\n",
    "\n",
    "dumb_function(False, \"hey\")\n",
    "dumb_function(True, \"hello\")"
   ]
  },
  {
   "cell_type": "markdown",
   "id": "maritime-aruba",
   "metadata": {},
   "source": [
    "Within the below while loop, add funcitonality that will handle if a non-integer age is entered, let the user know they messed up, and then let them try again"
   ]
  },
  {
   "cell_type": "code",
   "execution_count": null,
   "id": "wooden-feeling",
   "metadata": {
    "scrolled": true
   },
   "outputs": [],
   "source": [
    "while(True):\n",
    "    age = input(\"Enter your age: \")\n",
    "    age_doubled = int(age) * 2\n",
    "    print(f\"Your age doubled is {age_doubled}\")\n",
    "    print(\"Let's go again!\")\n"
   ]
  },
  {
   "cell_type": "markdown",
   "id": "behavioral-projector",
   "metadata": {},
   "source": [
    "## The `else` and `finally` statements"
   ]
  },
  {
   "cell_type": "markdown",
   "id": "regular-translator",
   "metadata": {},
   "source": [
    "`else` and `finally` can also be used in conjunction with the `try/except` statements.\n",
    "\n",
    "The `else` code block will go after all `except` code blocks occur, and will run if no Exceptions occur.\n",
    "The `finally` code block will go at the very end of all `try`, `except`, and `else` code blocks. It runs regardless of if an exception occurs.\n",
    "\n",
    "See the below example:"
   ]
  },
  {
   "cell_type": "code",
   "execution_count": null,
   "id": "handy-found",
   "metadata": {},
   "outputs": [],
   "source": [
    "def divide(x, y):\n",
    "    try:\n",
    "        result = x / y\n",
    "    except ZeroDivisionError:\n",
    "        print(\"division by zero!\")\n",
    "    else:\n",
    "        print(\"result is\", result)\n",
    "    finally:\n",
    "        print(\"executing finally clause\")\n",
    "\n",
    "divide(2, 1)\n",
    "\n",
    "\n",
    "divide(2, 0)\n",
    "\n",
    "\n",
    "divide(\"2\", \"1\")"
   ]
  },
  {
   "cell_type": "markdown",
   "id": "fleet-citizenship",
   "metadata": {},
   "source": [
    "## Defining your own exceptions and `raise`ing them"
   ]
  },
  {
   "cell_type": "markdown",
   "id": "critical-poster",
   "metadata": {},
   "source": [
    "You can define your own exceptions to handle issues that the avaliable exceptions do not appropriately cover.\n",
    "\n",
    "This is accomplished using inheritance. Each exception is its own class. When you define your own exceptions you can have those inherit from other exception classes. These new one's can now be caught by the `except` statements.\n",
    "\n",
    "The `raise` statement is avaliable and allows you to cause a certain exception to occur at any point in your program.\n",
    "To use it, have raise followed by the exception class, for example `raise ValueError`. More descriptive errors (which are always prefered), can created by calling the error with a string argument describing what went wrong, for example `raise ValueError(\"Bad inputs from user\")`\n",
    "\n",
    "Examples of user defined exception classes and the `raise` statement is below."
   ]
  },
  {
   "cell_type": "code",
   "execution_count": null,
   "id": "distinct-replica",
   "metadata": {},
   "outputs": [],
   "source": [
    "class B(Exception):\n",
    "    pass\n",
    "\n",
    "class C(B):\n",
    "    pass\n",
    "\n",
    "class D(C):\n",
    "    pass\n",
    "\n",
    "for cls in [B, C, D]:\n",
    "    try:\n",
    "        raise cls()\n",
    "    except D:\n",
    "        print(\"D\")\n",
    "    except C:\n",
    "        print(\"C\")\n",
    "    except B:\n",
    "        print(\"B\")"
   ]
  },
  {
   "cell_type": "markdown",
   "id": "successful-capability",
   "metadata": {},
   "source": [
    "### Excercise: Raising Exceptions"
   ]
  },
  {
   "cell_type": "markdown",
   "id": "interpreted-interstate",
   "metadata": {},
   "source": [
    "For each of the below statements, raise the appropriate exception and provide the reason why."
   ]
  },
  {
   "cell_type": "markdown",
   "id": "mature-zealand",
   "metadata": {},
   "source": [
    "1. The user attempted to divide by zero. Reason: \"Attempted to divide apples between zero people\""
   ]
  },
  {
   "cell_type": "code",
   "execution_count": null,
   "id": "satisfactory-neutral",
   "metadata": {},
   "outputs": [],
   "source": []
  },
  {
   "cell_type": "markdown",
   "id": "formal-dispatch",
   "metadata": {},
   "source": [
    "2. Attempted to open a file that does not exist. Reason: \"Provided name for student names file not found\""
   ]
  },
  {
   "cell_type": "code",
   "execution_count": null,
   "id": "vocal-glossary",
   "metadata": {},
   "outputs": [],
   "source": []
  },
  {
   "cell_type": "markdown",
   "id": "passive-timing",
   "metadata": {},
   "source": [
    "3. Tried to access a dictionary using a key that doesn't exist. Reason: \"No entry found for phone number in address book\""
   ]
  },
  {
   "cell_type": "code",
   "execution_count": null,
   "id": "ethical-committee",
   "metadata": {},
   "outputs": [],
   "source": []
  }
 ],
 "metadata": {
  "kernelspec": {
   "display_name": "Python 3",
   "language": "python",
   "name": "python3"
  },
  "language_info": {
   "codemirror_mode": {
    "name": "ipython",
    "version": 3
   },
   "file_extension": ".py",
   "mimetype": "text/x-python",
   "name": "python",
   "nbconvert_exporter": "python",
   "pygments_lexer": "ipython3",
   "version": "3.7.9"
  }
 },
 "nbformat": 4,
 "nbformat_minor": 5
}
